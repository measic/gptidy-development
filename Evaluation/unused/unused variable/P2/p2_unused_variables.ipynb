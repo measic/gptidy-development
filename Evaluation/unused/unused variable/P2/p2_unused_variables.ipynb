{
 "cells": [
  {
   "cell_type": "code",
   "execution_count": 1,
   "metadata": {},
   "outputs": [
    {
     "data": {
      "text/plain": [
       "'\\nShot prompt\\n4-shot\\n'"
      ]
     },
     "execution_count": 1,
     "metadata": {},
     "output_type": "execute_result"
    }
   ],
   "source": [
    "\"\"\"\n",
    "Shot prompt\n",
    "4-shot\n",
    "\"\"\""
   ]
  },
  {
   "cell_type": "code",
   "execution_count": 2,
   "metadata": {},
   "outputs": [],
   "source": [
    "import sys\n",
    "sys.path.append('../../')\n",
    "from run_process import get_unused_data\n",
    "sys.path.append('../../../')\n",
    "from utils import stats_results_unused"
   ]
  },
  {
   "cell_type": "code",
   "execution_count": 4,
   "metadata": {},
   "outputs": [],
   "source": [
    "# define variables\n",
    "NUM_FILES = 305\n",
    "SAMPLES_FOLDER_NAME = '../random_samples_variables'\n",
    "GPT_SAVED_FILE_NAME = 'unused_variables_gpt'"
   ]
  },
  {
   "cell_type": "code",
   "execution_count": 5,
   "metadata": {},
   "outputs": [],
   "source": [
    "# read in files from folder random_cells\n",
    "random_cells = []\n",
    "\n",
    "for i in range(NUM_FILES):\n",
    "    file_name = f'{SAMPLES_FOLDER_NAME}/{i}.py'\n",
    "    with open(file_name, 'r') as f:\n",
    "        random_cells.append(f.read())"
   ]
  },
  {
   "cell_type": "code",
   "execution_count": 6,
   "metadata": {},
   "outputs": [],
   "source": [
    "task = \"A variable is unused if it is assigned using an equals operator but is not referenced after being defined. Identify and remove unused variables in the code delimited by triple backticks. For unused variables in unpacking, change these to underscores. Ignore unused functions, imports, or classes. Output under the headings 'Unused variables' and 'Updated code'\"\n",
    "\n",
    "ex1_input = \"\"\"```python\n",
    "time = 5\n",
    "d = 5\n",
    "print(d)\n",
    "\n",
    "def calc():\n",
    "    a = 5\n",
    "    b = 4\n",
    "return a + b\n",
    "```\"\"\"\n",
    "\n",
    "ex1_output = \"\"\"Unused variables:\n",
    "['time']\n",
    "\n",
    "Updated code:\n",
    "```python\n",
    "d = 5\n",
    "print(d)\n",
    "\n",
    "def calc():\n",
    "    a = 5\n",
    "    b = 4\n",
    "    return a + b\n",
    "```\"\"\"\n",
    "\n",
    "ex2_input = \"\"\"```python\n",
    "val1 = 'hello'\n",
    "val2 = 'world'\n",
    "```\"\"\"\n",
    "\n",
    "ex2_output = \"\"\"Unused variables:\n",
    "['val1', 'val2']\n",
    "\n",
    "Updated code:\n",
    "```python\n",
    "```\"\"\"\n",
    "\n",
    "ex3_input = \"\"\"```python\n",
    "z = [1, 2, 3]\n",
    "a, b, c = z\n",
    "print(a + b)\n",
    "```\"\"\"\n",
    "\n",
    "ex3_output = \"\"\"Unused variables:\n",
    "['c']\n",
    "\n",
    "Updated code:\n",
    "```python\n",
    "z = [1, 2, 3]\n",
    "a, b, _ = z\n",
    "print(a + b)\n",
    "```\"\"\"\n",
    "\n",
    "ex4_input = \"\"\"\"```python\n",
    "def associate():\n",
    "    return center.path()\n",
    "\n",
    "path = associate()\n",
    "```\"\"\"\n",
    "\n",
    "ex4_output = \"\"\"Unused variables:\n",
    "['path']\n",
    "\n",
    "Updated code:\n",
    "```python\n",
    "def associate():\n",
    "    return center.path()\n",
    "```\"\"\""
   ]
  },
  {
   "cell_type": "code",
   "execution_count": 7,
   "metadata": {},
   "outputs": [
    {
     "data": {
      "text/plain": [
       "0.29550950000000004"
      ]
     },
     "execution_count": 7,
     "metadata": {},
     "output_type": "execute_result"
    }
   ],
   "source": [
    "# Estimate cost\n",
    "import sys\n",
    "sys.path.append(\"../../..\")\n",
    "import utils\n",
    "\n",
    "def estimate_tokens():\n",
    "    in_tok = ''\n",
    "    out_tok = ''\n",
    "    for i, cell_src in enumerate(random_cells):\n",
    "        # estimate prompt\n",
    "        in_tok += task + ex1_input + ex1_output + ex2_input + ex2_output + ex3_input + ex3_output + ex4_input + ex4_output\n",
    "        in_tok += f\"```python\\n{cell_src}\\n```\"\n",
    "        # estimate response\n",
    "        out_tok += cell_src\n",
    "    return in_tok, out_tok\n",
    "\n",
    "in_tok, out_tok = estimate_tokens()\n",
    "\n",
    "utils.gpt_35_turbo_token_dollar_cost(in_tok, out_tok)"
   ]
  },
  {
   "cell_type": "code",
   "execution_count": 8,
   "metadata": {},
   "outputs": [],
   "source": [
    "# # identify unused\n",
    "# import openai\n",
    "# openai.api_key = my_key\n",
    "\n",
    "# # GPT\n",
    "# def identify_remove_unused(cell_src):\n",
    "#     while True:\n",
    "#         try:\n",
    "#             completion = openai.ChatCompletion.create(\n",
    "#                 model=\"gpt-3.5-turbo\",\n",
    "#                 temperature=0,\n",
    "#                 messages = [\n",
    "#                 {\"role\": \"user\", \"content\": task},\n",
    "#                 {\"role\": \"user\", \"content\": ex1_input},\n",
    "#                 {\"role\": \"assistant\", \"content\": ex1_output},\n",
    "#                 {\"role\": \"user\", \"content\": ex2_input},\n",
    "#                 {\"role\": \"assistant\", \"content\": ex2_output},\n",
    "#                 {\"role\": \"user\", \"content\": ex3_input},\n",
    "#                 {\"role\": \"assistant\", \"content\": ex3_output},\n",
    "#                 {\"role\": \"user\", \"content\": ex4_input},\n",
    "#                 {\"role\": \"assistant\", \"content\": ex4_output},\n",
    "#                 {\"role\": \"user\", \"content\": f\"```python\\n{cell_src}\\n```\"}\n",
    "#             ]\n",
    "#             )\n",
    "#         except Exception as e:\n",
    "#             if 'maximum context length' in str(e):\n",
    "#                 print('...Error.. too long...' + str(e))\n",
    "#                 return 'length', None\n",
    "#             else:\n",
    "#                 print('...Error.. trying again...' + str(e))\n",
    "#         else:\n",
    "#             break\n",
    "#     return completion.choices[0].finish_reason, completion.choices[0].message[\"content\"]\n",
    "\n",
    "# gpt_results = []\n",
    "# for i, cell_src in enumerate(random_cells):\n",
    "#     print(f'Processing file {i}')\n",
    "#     finish_reason, result = identify_remove_unused(cell_src)\n",
    "#     print(f'File {i} - {finish_reason}')\n",
    "#     gpt_results.append({'reason': finish_reason, 'result': result})\n",
    "\n",
    "# # save the results to a file\n",
    "# with open(GPT_SAVED_FILE_NAME, 'w') as f:\n",
    "#     f.write(str(gpt_results))"
   ]
  },
  {
   "cell_type": "code",
   "execution_count": 9,
   "metadata": {},
   "outputs": [],
   "source": [
    "# read in gpt result from file\n",
    "with open(GPT_SAVED_FILE_NAME, 'r') as f:\n",
    "    gpt_results = eval(f.read())"
   ]
  },
  {
   "cell_type": "code",
   "execution_count": 10,
   "metadata": {},
   "outputs": [],
   "source": [
    "# now split the data into files\n",
    "gpt_unused_names = []\n",
    "gpt_updated_code = []\n",
    "\n",
    "for i, result in enumerate(gpt_results):\n",
    "    if result['reason'] == 'stop':\n",
    "        # split the result into unused names and updated code\n",
    "        result_split = result['result'].split('Updated code:')\n",
    "        # get the unused names\n",
    "        unused_names = eval(result_split[0].split('Unused variables:')[1].strip(\"\\n\"))\n",
    "        # get the updated code\n",
    "        updated_code = result_split[1].split('```')[1]\n",
    "        if updated_code.startswith('python'):\n",
    "            updated_code = updated_code[6:]\n",
    "        updated_code = updated_code.strip('\\n')\n",
    "        # store\n",
    "        if unused_names == []:\n",
    "            unused_names = None\n",
    "        gpt_unused_names.append(unused_names)\n",
    "        gpt_updated_code.append(updated_code)\n",
    "    else:\n",
    "        # if we error we assume no unused functions\n",
    "        gpt_unused_names.append(None)\n",
    "        gpt_updated_code.append(None)"
   ]
  },
  {
   "cell_type": "code",
   "execution_count": 11,
   "metadata": {},
   "outputs": [
    {
     "name": "stdout",
     "output_type": "stream",
     "text": [
      "Failed 2 times\n"
     ]
    }
   ],
   "source": [
    "# save the updated code to files\n",
    "import os\n",
    "if not os.path.exists('gpt_code'):\n",
    "    os.makedirs('gpt_code')\n",
    "\n",
    "failed = 0\n",
    "for i, code in enumerate(gpt_updated_code):\n",
    "    with open(f'gpt_code/{i}.py', 'w') as f:\n",
    "        if gpt_unused_names[i] is None or gpt_updated_code[i] is None:\n",
    "            failed += 1\n",
    "            f.write(random_cells[i])\n",
    "        else:\n",
    "            f.write(code)\n",
    "\n",
    "print(f'Failed {failed} times')"
   ]
  },
  {
   "cell_type": "code",
   "execution_count": 12,
   "metadata": {},
   "outputs": [
    {
     "name": "stdout",
     "output_type": "stream",
     "text": [
      "Total before: 586\n"
     ]
    }
   ],
   "source": [
    "before = get_unused_data(NUM_FILES, SAMPLES_FOLDER_NAME, 'variable')\n",
    "\n",
    "total_before = sum(len(item) for item in before)\n",
    "print(f'Total before: {total_before}')"
   ]
  },
  {
   "cell_type": "code",
   "execution_count": 13,
   "metadata": {},
   "outputs": [
    {
     "name": "stdout",
     "output_type": "stream",
     "text": [
      "Total after: 157\n"
     ]
    }
   ],
   "source": [
    "after = get_unused_data(NUM_FILES, 'gpt_code', 'variable')\n",
    "\n",
    "total_after = sum(len(item) for item in after)\n",
    "print(f'Total after: {total_after}')"
   ]
  },
  {
   "cell_type": "code",
   "execution_count": 14,
   "metadata": {},
   "outputs": [
    {
     "name": "stdout",
     "output_type": "stream",
     "text": [
      "Total percentage difference: -73.20819112627987%\n"
     ]
    }
   ],
   "source": [
    "# List percentage difference between before and after for total\n",
    "print(f'Total percentage difference: {(total_after - total_before) / total_before * 100}%')"
   ]
  },
  {
   "cell_type": "code",
   "execution_count": 15,
   "metadata": {},
   "outputs": [
    {
     "name": "stdout",
     "output_type": "stream",
     "text": [
      "GPT before count: 526\n",
      "Vulture before count: 586\n",
      "------------\n",
      "True positives: 446\n",
      "False positives: 80\n",
      "False negatives: 119\n",
      "------------\n",
      "Files with at least one false positive (and no false negatives)\n",
      "2: 2 false positives\n",
      "28: 4 false positives\n",
      "53: 1 false positives\n",
      "61: 1 false positives\n",
      "97: 5 false positives\n",
      "109: 1 false positives\n",
      "121: 2 false positives\n",
      "123: 2 false positives\n",
      "135: 1 false positives\n",
      "151: 1 false positives\n",
      "152: 3 false positives\n",
      "158: 4 false positives\n",
      "179: 1 false positives\n",
      "195: 1 false positives\n",
      "268: 1 false positives\n",
      "289: 1 false positives\n",
      "------------\n",
      "Files with at least one false negative (and no false positives)\n",
      "4: 1 false negatives\n",
      "6: 6 false negatives\n",
      "12: 2 false negatives\n",
      "15: 2 false negatives\n",
      "17: 1 false negatives\n",
      "23: 1 false negatives\n",
      "29: 1 false negatives\n",
      "30: 1 false negatives\n",
      "32: 1 false negatives\n",
      "38: 1 false negatives\n",
      "44: 1 false negatives\n",
      "46: 2 false negatives\n",
      "51: 2 false negatives\n",
      "54: 1 false negatives\n",
      "83: 1 false negatives\n",
      "89: 1 false negatives\n",
      "92: 1 false negatives\n",
      "105: 1 false negatives\n",
      "107: 3 false negatives\n",
      "116: 2 false negatives\n",
      "129: 1 false negatives\n",
      "130: 2 false negatives\n",
      "138: 1 false negatives\n",
      "166: 2 false negatives\n",
      "171: 1 false negatives\n",
      "178: 1 false negatives\n",
      "189: 2 false negatives\n",
      "192: 1 false negatives\n",
      "207: 4 false negatives\n",
      "218: 1 false negatives\n",
      "220: 2 false negatives\n",
      "241: 1 false negatives\n",
      "270: 3 false negatives\n",
      "275: 1 false negatives\n",
      "278: 1 false negatives\n",
      "282: 1 false negatives\n",
      "291: 1 false negatives\n",
      "304: 1 false negatives\n"
     ]
    }
   ],
   "source": [
    "stats_results_unused(gpt_unused_names, before)"
   ]
  },
  {
   "cell_type": "code",
   "execution_count": 32,
   "metadata": {},
   "outputs": [
    {
     "name": "stdout",
     "output_type": "stream",
     "text": [
      "reset_graph()\n",
      "\n",
      "n_inputs = 28 * 28  # MNIST\n",
      "n_hidden1 = 300 # 재사용\n",
      "n_hidden2 = 50  # 재사용\n",
      "n_hidden3 = 50  # 재사용\n",
      "n_hidden4 = 20  # 새로 만듦!\n",
      "n_outputs = 10  # 새로 만듦!\n",
      "\n",
      "X = tf.placeholder(tf.float32, shape=(None, n_inputs), name=\"X\")\n",
      "y = tf.placeholder(tf.int32, shape=(None), name=\"y\")\n"
     ]
    }
   ],
   "source": [
    "print(random_cells[6])"
   ]
  },
  {
   "cell_type": "code",
   "execution_count": 33,
   "metadata": {},
   "outputs": [
    {
     "name": "stdout",
     "output_type": "stream",
     "text": [
      "reset_graph()\n",
      "\n",
      "n_inputs = 28 * 28  # MNIST\n",
      "n_hidden1 = 300 # 재사용\n",
      "n_hidden2 = 50  # 재사용\n",
      "n_hidden3 = 50  # 재사용\n",
      "n_hidden4 = 20  # 새로 만듦!\n",
      "\n",
      "X = tf.placeholder(tf.float32, shape=(None, n_inputs), name=\"X\")\n",
      "y = tf.placeholder(tf.int32, shape=(None), name=\"y\")\n"
     ]
    }
   ],
   "source": [
    "print(gpt_updated_code[6])"
   ]
  },
  {
   "cell_type": "code",
   "execution_count": 34,
   "metadata": {},
   "outputs": [
    {
     "data": {
      "text/plain": [
       "['n_hidden1', 'n_hidden2', 'n_hidden3', 'n_hidden4', 'n_outputs', 'X', 'y']"
      ]
     },
     "execution_count": 34,
     "metadata": {},
     "output_type": "execute_result"
    }
   ],
   "source": [
    "before[6]"
   ]
  },
  {
   "cell_type": "code",
   "execution_count": 35,
   "metadata": {},
   "outputs": [
    {
     "data": {
      "text/plain": [
       "['n_hidden1', 'n_hidden2', 'n_hidden3', 'n_hidden4', 'X', 'y']"
      ]
     },
     "execution_count": 35,
     "metadata": {},
     "output_type": "execute_result"
    }
   ],
   "source": [
    "after[6]"
   ]
  },
  {
   "cell_type": "code",
   "execution_count": 36,
   "metadata": {},
   "outputs": [
    {
     "data": {
      "text/plain": [
       "['n_outputs']"
      ]
     },
     "execution_count": 36,
     "metadata": {},
     "output_type": "execute_result"
    }
   ],
   "source": [
    "gpt_unused_names[6]"
   ]
  },
  {
   "cell_type": "code",
   "execution_count": 21,
   "metadata": {},
   "outputs": [],
   "source": [
    "# delete 'gpt_code' folder\n",
    "!rm -rf gpt_code"
   ]
  }
 ],
 "metadata": {
  "kernelspec": {
   "display_name": "Python 3",
   "language": "python",
   "name": "python3"
  },
  "language_info": {
   "codemirror_mode": {
    "name": "ipython",
    "version": 3
   },
   "file_extension": ".py",
   "mimetype": "text/x-python",
   "name": "python",
   "nbconvert_exporter": "python",
   "pygments_lexer": "ipython3",
   "version": "3.11.5"
  },
  "orig_nbformat": 4
 },
 "nbformat": 4,
 "nbformat_minor": 2
}
