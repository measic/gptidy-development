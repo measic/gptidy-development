{
 "cells": [
  {
   "cell_type": "code",
   "execution_count": 1,
   "metadata": {},
   "outputs": [
    {
     "data": {
      "text/plain": [
       "'\\nSimple prompt\\n'"
      ]
     },
     "execution_count": 1,
     "metadata": {},
     "output_type": "execute_result"
    }
   ],
   "source": [
    "\"\"\"\n",
    "Simple prompt\n",
    "\"\"\""
   ]
  },
  {
   "cell_type": "code",
   "execution_count": 2,
   "metadata": {},
   "outputs": [],
   "source": [
    "import sys\n",
    "sys.path.append('../../')\n",
    "from run_process import get_unused_data\n",
    "sys.path.append('../../../')\n",
    "from utils import stats_results_unused"
   ]
  },
  {
   "cell_type": "code",
   "execution_count": 4,
   "metadata": {},
   "outputs": [],
   "source": [
    "# define variables\n",
    "NUM_FILES = 305\n",
    "SAMPLES_FOLDER_NAME = '../random_samples_variables'\n",
    "GPT_SAVED_FILE_NAME = 'unused_variables_gpt'"
   ]
  },
  {
   "cell_type": "code",
   "execution_count": 5,
   "metadata": {},
   "outputs": [],
   "source": [
    "# read in files from folder random_cells\n",
    "random_cells = []\n",
    "\n",
    "for i in range(NUM_FILES):\n",
    "    file_name = f'{SAMPLES_FOLDER_NAME}/{i}.py'\n",
    "    with open(file_name, 'r') as f:\n",
    "        random_cells.append(f.read())"
   ]
  },
  {
   "cell_type": "code",
   "execution_count": 6,
   "metadata": {},
   "outputs": [
    {
     "data": {
      "text/plain": [
       "0.204467"
      ]
     },
     "execution_count": 6,
     "metadata": {},
     "output_type": "execute_result"
    }
   ],
   "source": [
    "# Estimate cost\n",
    "import sys\n",
    "sys.path.append(\"../../..\")\n",
    "import utils\n",
    "\n",
    "def estimate_tokens():\n",
    "    in_tok = ''\n",
    "    out_tok = ''\n",
    "    for i, cell_src in enumerate(random_cells):\n",
    "        # estimate prompt\n",
    "        in_tok += \"A variable is unused if it is assigned using an equals operator but is not referenced after being defined. Identify and remove unused variables in the code delimited by triple backticks. For unused variables in unpacking, change these to underscores. Output under the headings 'Unused variables' (e.g., ['variable1', 'variable2', ...] and 'Updated code' (e.g., ```python\\n# updated code here\\n```)\"\n",
    "        in_tok += f'```python\\n{cell_src}\\n```\"'\n",
    "        # estimate response\n",
    "        out_tok += cell_src\n",
    "    return in_tok, out_tok\n",
    "\n",
    "in_tok, out_tok = estimate_tokens()\n",
    "\n",
    "utils.gpt_35_turbo_token_dollar_cost(in_tok, out_tok)"
   ]
  },
  {
   "cell_type": "code",
   "execution_count": 7,
   "metadata": {},
   "outputs": [],
   "source": [
    "# # identify unused functions using vulture (GPT)\n",
    "# import openai\n",
    "# openai.api_key = my_key\n",
    "\n",
    "# # GPT\n",
    "# def identify_remove_unused(cell_src):\n",
    "#     while True:\n",
    "#         try:\n",
    "#             completion = openai.ChatCompletion.create(\n",
    "#                 model=\"gpt-3.5-turbo\",\n",
    "#                 temperature=0,\n",
    "#                 messages = [\n",
    "#                 {\"role\": \"user\", \"content\": \"A variable is unused if it is assigned using an equals operator but is not referenced after being defined. Identify and remove unused variables in the code delimited by triple backticks. For unused variables in unpacking, change these to underscores. Output under the headings 'Unused variables' (e.g., ['variable1', 'variable2', ...] and 'Updated code' (e.g., ```python\\n# updated code here\\n```)\"},\n",
    "#                 {\"role\": \"user\", \"content\": f\"```python\\n{cell_src}\\n```\"}\n",
    "#             ]\n",
    "#             )\n",
    "#         except Exception as e:\n",
    "#             if 'maximum context length' in str(e):\n",
    "#                 print('...Error.. too long...' + str(e))\n",
    "#                 return 'length', None\n",
    "#             else:\n",
    "#                 print('...Error.. trying again...' + str(e))\n",
    "#         else:\n",
    "#             break\n",
    "#     return completion.choices[0].finish_reason, completion.choices[0].message[\"content\"]\n",
    "\n",
    "# gpt_results = []\n",
    "# for i, cell_src in enumerate(random_cells):\n",
    "#     print(f'Processing file {i}')\n",
    "#     finish_reason, result = identify_remove_unused(cell_src)\n",
    "#     print(f'File {i} - {finish_reason}')\n",
    "#     gpt_results.append({'reason': finish_reason, 'result': result})\n",
    "\n",
    "# # save the results to a file\n",
    "# with open(GPT_SAVED_FILE_NAME, 'w') as f:\n",
    "#     f.write(str(gpt_results))"
   ]
  },
  {
   "cell_type": "code",
   "execution_count": 8,
   "metadata": {},
   "outputs": [],
   "source": [
    "# read in gpt result from file\n",
    "with open(GPT_SAVED_FILE_NAME, 'r') as f:\n",
    "    gpt_results = eval(f.read())"
   ]
  },
  {
   "cell_type": "code",
   "execution_count": 9,
   "metadata": {},
   "outputs": [],
   "source": [
    "# now split the data into files\n",
    "gpt_unused_names = []\n",
    "gpt_updated_code = []\n",
    "\n",
    "for i, result in enumerate(gpt_results):\n",
    "    if result['reason'] == 'stop':\n",
    "        # split the result into unused function names and updated code\n",
    "        result_split = result['result'].split('Updated code:')\n",
    "        try:\n",
    "            # get the unused function names\n",
    "            unused_names = result_split[0].split('Unused variables:')[1].strip(\"\\n \")\n",
    "        except:\n",
    "            unused_names = None\n",
    "            updated_code = None\n",
    "        else:\n",
    "            # if None\n",
    "            if 'None' in unused_names:\n",
    "                unused_names = None\n",
    "            # if we have a list of items\n",
    "            elif \"[\" in unused_names:\n",
    "                unused_names = unused_names.strip(\"[]\").split(\",\")\n",
    "                unused_names = [name.strip().strip(\"'\") for name in unused_names if name.strip() != \"\"]\n",
    "            # we have a bullet point list\n",
    "            elif \"-\" in unused_names:\n",
    "                unused_names = unused_names.strip(\"- \").split(\"\\n- \")\n",
    "                new_unused_names = []\n",
    "                for name in unused_names:\n",
    "                    split =  name.split(\"`\")\n",
    "                    if len(split) > 1:\n",
    "                        new_unused_names.append(split[1])\n",
    "                    else:\n",
    "                        new_unused_names.append(split[0])\n",
    "                unused_names = new_unused_names\n",
    "            elif \"`\" in unused_names:\n",
    "                unused_names = unused_names.split(\", \")\n",
    "                new_unused_names = []\n",
    "                for name in unused_names:\n",
    "                    split =  name.split(\"`\")\n",
    "                    if len(split) > 1:\n",
    "                        new_unused_names.append(split[1])\n",
    "                    else:\n",
    "                        new_unused_names.append(split[0])\n",
    "                unused_names = new_unused_names\n",
    "            else:\n",
    "                assert False\n",
    "            \n",
    "            if unused_names == []:\n",
    "                unused_names = None\n",
    "\n",
    "            # get the updated code\n",
    "            updated_code = result_split[1].split('```')[1]\n",
    "            if updated_code.startswith('python'):\n",
    "                updated_code = updated_code[6:]\n",
    "            updated_code = updated_code.strip('\\n')\n",
    "            \n",
    "        # store\n",
    "        gpt_unused_names.append(unused_names)\n",
    "        gpt_updated_code.append(updated_code)\n",
    "        \n",
    "    else:\n",
    "        # if we error\n",
    "        gpt_unused_names.append(None)\n",
    "        gpt_updated_code.append(None)"
   ]
  },
  {
   "cell_type": "code",
   "execution_count": 10,
   "metadata": {},
   "outputs": [
    {
     "name": "stdout",
     "output_type": "stream",
     "text": [
      "Failed: 112\n"
     ]
    }
   ],
   "source": [
    "# save the updated code to files\n",
    "import os\n",
    "failed = 0\n",
    "if not os.path.exists('gpt_code'):\n",
    "    os.makedirs('gpt_code')\n",
    "for i, code in enumerate(gpt_updated_code):\n",
    "    with open(f'gpt_code/{i}.py', 'w') as f:\n",
    "        if gpt_unused_names[i] is None or gpt_updated_code[i] is None:\n",
    "            f.write(random_cells[i])\n",
    "            failed += 1\n",
    "        else:\n",
    "            f.write(code)\n",
    "\n",
    "print(f'Failed: {failed}')"
   ]
  },
  {
   "cell_type": "code",
   "execution_count": 11,
   "metadata": {},
   "outputs": [
    {
     "name": "stdout",
     "output_type": "stream",
     "text": [
      "Total before: 586\n"
     ]
    }
   ],
   "source": [
    "before = get_unused_data(NUM_FILES, SAMPLES_FOLDER_NAME, 'variable')\n",
    "\n",
    "total_before = sum(len(item) for item in before)\n",
    "print(f'Total before: {total_before}')"
   ]
  },
  {
   "cell_type": "code",
   "execution_count": 12,
   "metadata": {},
   "outputs": [
    {
     "name": "stdout",
     "output_type": "stream",
     "text": [
      "Total after: 320\n"
     ]
    }
   ],
   "source": [
    "after = get_unused_data(NUM_FILES, 'gpt_code', 'variable')\n",
    "\n",
    "total_after = sum(len(item) for item in after)\n",
    "print(f'Total after: {total_after}')"
   ]
  },
  {
   "cell_type": "code",
   "execution_count": 13,
   "metadata": {},
   "outputs": [
    {
     "name": "stdout",
     "output_type": "stream",
     "text": [
      "Total percentage difference: -45.39249146757679%\n"
     ]
    }
   ],
   "source": [
    "# List percentage difference between before and after for total\n",
    "print(f'Total percentage difference: {(total_after - total_before) / total_before * 100}%')"
   ]
  },
  {
   "cell_type": "code",
   "execution_count": 14,
   "metadata": {},
   "outputs": [
    {
     "name": "stdout",
     "output_type": "stream",
     "text": [
      "GPT before count: 353\n",
      "Vulture before count: 586\n",
      "------------\n",
      "True positives: 264\n",
      "False positives: 89\n",
      "False negatives: 310\n",
      "------------\n",
      "Files with at least one false positive (and no false negatives)\n",
      "2: 2 false positives\n",
      "22: 2 false positives\n",
      "26: 2 false positives\n",
      "66: 2 false positives\n",
      "90: 1 false positives\n",
      "131: 1 false positives\n",
      "152: 1 false positives\n",
      "158: 4 false positives\n",
      "172: 1 false positives\n",
      "179: 1 false positives\n",
      "224: 1 false positives\n",
      "237: 1 false positives\n",
      "268: 1 false positives\n",
      "287: 2 false positives\n",
      "------------\n",
      "Files with at least one false negative (and no false positives)\n",
      "0: 1 false negatives\n",
      "1: 1 false negatives\n",
      "3: 2 false negatives\n",
      "4: 1 false negatives\n",
      "5: 1 false negatives\n",
      "6: 7 false negatives\n",
      "10: 1 false negatives\n",
      "12: 2 false negatives\n",
      "14: 1 false negatives\n",
      "15: 1 false negatives\n",
      "23: 2 false negatives\n",
      "29: 1 false negatives\n",
      "30: 1 false negatives\n",
      "31: 1 false negatives\n",
      "32: 1 false negatives\n",
      "34: 1 false negatives\n",
      "35: 1 false negatives\n",
      "36: 1 false negatives\n",
      "37: 1 false negatives\n",
      "38: 1 false negatives\n",
      "40: 2 false negatives\n",
      "44: 2 false negatives\n",
      "46: 2 false negatives\n",
      "47: 1 false negatives\n",
      "50: 4 false negatives\n",
      "51: 2 false negatives\n",
      "55: 1 false negatives\n",
      "56: 2 false negatives\n",
      "59: 1 false negatives\n",
      "60: 1 false negatives\n",
      "62: 1 false negatives\n",
      "65: 1 false negatives\n",
      "69: 1 false negatives\n",
      "70: 1 false negatives\n",
      "71: 2 false negatives\n",
      "74: 1 false negatives\n",
      "75: 1 false negatives\n",
      "76: 6 false negatives\n",
      "78: 1 false negatives\n",
      "79: 1 false negatives\n",
      "81: 1 false negatives\n",
      "82: 1 false negatives\n",
      "83: 1 false negatives\n",
      "86: 1 false negatives\n",
      "88: 2 false negatives\n",
      "89: 4 false negatives\n",
      "92: 2 false negatives\n",
      "94: 1 false negatives\n",
      "95: 1 false negatives\n",
      "96: 1 false negatives\n",
      "97: 1 false negatives\n",
      "100: 1 false negatives\n",
      "101: 1 false negatives\n",
      "102: 3 false negatives\n",
      "104: 2 false negatives\n",
      "105: 2 false negatives\n",
      "106: 2 false negatives\n",
      "107: 2 false negatives\n",
      "110: 1 false negatives\n",
      "114: 1 false negatives\n",
      "116: 2 false negatives\n",
      "117: 3 false negatives\n",
      "118: 1 false negatives\n",
      "119: 1 false negatives\n",
      "120: 1 false negatives\n",
      "124: 1 false negatives\n",
      "125: 1 false negatives\n",
      "126: 2 false negatives\n",
      "128: 1 false negatives\n",
      "129: 1 false negatives\n",
      "132: 1 false negatives\n",
      "133: 1 false negatives\n",
      "136: 1 false negatives\n",
      "137: 1 false negatives\n",
      "138: 1 false negatives\n",
      "140: 2 false negatives\n",
      "141: 1 false negatives\n",
      "142: 1 false negatives\n",
      "144: 1 false negatives\n",
      "145: 3 false negatives\n",
      "149: 1 false negatives\n",
      "150: 1 false negatives\n",
      "154: 2 false negatives\n",
      "156: 1 false negatives\n",
      "159: 1 false negatives\n",
      "165: 1 false negatives\n",
      "166: 3 false negatives\n",
      "173: 1 false negatives\n",
      "175: 1 false negatives\n",
      "177: 1 false negatives\n",
      "178: 1 false negatives\n",
      "180: 1 false negatives\n",
      "183: 1 false negatives\n",
      "184: 1 false negatives\n",
      "185: 2 false negatives\n",
      "187: 1 false negatives\n",
      "188: 1 false negatives\n",
      "191: 1 false negatives\n",
      "192: 1 false negatives\n",
      "193: 6 false negatives\n",
      "203: 2 false negatives\n",
      "204: 1 false negatives\n",
      "207: 5 false negatives\n",
      "209: 1 false negatives\n",
      "210: 1 false negatives\n",
      "211: 2 false negatives\n",
      "212: 1 false negatives\n",
      "213: 1 false negatives\n",
      "215: 1 false negatives\n",
      "216: 1 false negatives\n",
      "217: 1 false negatives\n",
      "218: 1 false negatives\n",
      "219: 1 false negatives\n",
      "221: 1 false negatives\n",
      "223: 1 false negatives\n",
      "226: 1 false negatives\n",
      "227: 2 false negatives\n",
      "231: 1 false negatives\n",
      "235: 1 false negatives\n",
      "238: 1 false negatives\n",
      "239: 4 false negatives\n",
      "241: 1 false negatives\n",
      "243: 1 false negatives\n",
      "244: 3 false negatives\n",
      "245: 1 false negatives\n",
      "248: 2 false negatives\n",
      "249: 2 false negatives\n",
      "253: 1 false negatives\n",
      "254: 5 false negatives\n",
      "257: 1 false negatives\n",
      "260: 1 false negatives\n",
      "269: 3 false negatives\n",
      "270: 2 false negatives\n",
      "271: 1 false negatives\n",
      "273: 2 false negatives\n",
      "277: 1 false negatives\n",
      "281: 1 false negatives\n",
      "282: 2 false negatives\n",
      "283: 1 false negatives\n",
      "288: 1 false negatives\n",
      "290: 1 false negatives\n",
      "291: 3 false negatives\n",
      "292: 1 false negatives\n",
      "294: 2 false negatives\n",
      "298: 1 false negatives\n",
      "300: 3 false negatives\n",
      "301: 4 false negatives\n",
      "303: 2 false negatives\n",
      "304: 2 false negatives\n"
     ]
    }
   ],
   "source": [
    "stats_results_unused(gpt_unused_names, before)"
   ]
  },
  {
   "cell_type": "code",
   "execution_count": 32,
   "metadata": {},
   "outputs": [
    {
     "name": "stdout",
     "output_type": "stream",
     "text": [
      "# Compute a single transport map from day 7 to 7.5\n",
      "tmap_annotated = ot_model.compute_transport_map(7,7.5)\n"
     ]
    }
   ],
   "source": [
    "print(random_cells[1])"
   ]
  },
  {
   "cell_type": "code",
   "execution_count": 33,
   "metadata": {},
   "outputs": [
    {
     "name": "stdout",
     "output_type": "stream",
     "text": [
      "# Compute a single transport map from day 7 to 7.5\n",
      "_ = ot_model.compute_transport_map(7,7.5)\n"
     ]
    }
   ],
   "source": [
    "print(gpt_updated_code[1])"
   ]
  },
  {
   "cell_type": "code",
   "execution_count": 34,
   "metadata": {},
   "outputs": [
    {
     "data": {
      "text/plain": [
       "['tmap_annotated']"
      ]
     },
     "execution_count": 34,
     "metadata": {},
     "output_type": "execute_result"
    }
   ],
   "source": [
    "before[1]"
   ]
  },
  {
   "cell_type": "code",
   "execution_count": 35,
   "metadata": {},
   "outputs": [
    {
     "data": {
      "text/plain": [
       "['tmap_annotated']"
      ]
     },
     "execution_count": 35,
     "metadata": {},
     "output_type": "execute_result"
    }
   ],
   "source": [
    "after[1]"
   ]
  },
  {
   "cell_type": "code",
   "execution_count": 31,
   "metadata": {},
   "outputs": [],
   "source": [
    "gpt_unused_names[1]"
   ]
  },
  {
   "cell_type": "code",
   "execution_count": 15,
   "metadata": {},
   "outputs": [],
   "source": [
    "# delete 'gpt_code' folder\n",
    "!rm -rf gpt_code"
   ]
  }
 ],
 "metadata": {
  "kernelspec": {
   "display_name": "Python 3",
   "language": "python",
   "name": "python3"
  },
  "language_info": {
   "codemirror_mode": {
    "name": "ipython",
    "version": 3
   },
   "file_extension": ".py",
   "mimetype": "text/x-python",
   "name": "python",
   "nbconvert_exporter": "python",
   "pygments_lexer": "ipython3",
   "version": "3.11.5"
  },
  "orig_nbformat": 4
 },
 "nbformat": 4,
 "nbformat_minor": 2
}
