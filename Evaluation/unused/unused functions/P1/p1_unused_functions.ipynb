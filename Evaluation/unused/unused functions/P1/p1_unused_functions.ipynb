{
 "cells": [
  {
   "cell_type": "code",
   "execution_count": 1,
   "metadata": {},
   "outputs": [
    {
     "data": {
      "text/plain": [
       "'\\nSimple prompt\\n'"
      ]
     },
     "execution_count": 1,
     "metadata": {},
     "output_type": "execute_result"
    }
   ],
   "source": [
    "\"\"\"\n",
    "Simple prompt\n",
    "\"\"\""
   ]
  },
  {
   "cell_type": "code",
   "execution_count": 2,
   "metadata": {},
   "outputs": [],
   "source": [
    "import sys\n",
    "sys.path.append('../../')\n",
    "from run_process import get_unused_data\n",
    "sys.path.append('../../../')\n",
    "from utils import stats_results_unused"
   ]
  },
  {
   "cell_type": "code",
   "execution_count": 4,
   "metadata": {},
   "outputs": [],
   "source": [
    "# define variables\n",
    "NUM_FILES = 209\n",
    "SAMPLES_FOLDER_NAME = '../random_samples_functions'\n",
    "GPT_SAVED_FILE_NAME = 'unused_functions_gpt'"
   ]
  },
  {
   "cell_type": "code",
   "execution_count": 5,
   "metadata": {},
   "outputs": [],
   "source": [
    "# read in files from folder random_cells\n",
    "random_cells = []\n",
    "\n",
    "for i in range(NUM_FILES):\n",
    "    file_name = f'{SAMPLES_FOLDER_NAME}/{i}.py'\n",
    "    with open(file_name, 'r') as f:\n",
    "        random_cells.append(f.read())"
   ]
  },
  {
   "cell_type": "code",
   "execution_count": 6,
   "metadata": {},
   "outputs": [
    {
     "data": {
      "text/plain": [
       "0.250514"
      ]
     },
     "execution_count": 6,
     "metadata": {},
     "output_type": "execute_result"
    }
   ],
   "source": [
    "# Estimate cost\n",
    "import sys\n",
    "sys.path.append(\"../../..\")\n",
    "import utils\n",
    "\n",
    "def estimate_tokens():\n",
    "    in_tok = ''\n",
    "    out_tok = ''\n",
    "    for i, cell_src in enumerate(random_cells):\n",
    "        # estimate prompt\n",
    "        in_tok += \"A function/method is unused if it is defined using 'def' but is not referenced after being defined. Identify and remove unused functions/methods in the code delimited by triple backticks. Output under the headings 'Unused functions' (e.g., ['function1', 'function2', ...] and 'Updated code' (e.g., ```python\\n# updated code here\\n```)\"\n",
    "        in_tok += f'```python\\n{cell_src}\\n```\"'\n",
    "        # estimate response\n",
    "        out_tok += cell_src\n",
    "    return in_tok, out_tok\n",
    "\n",
    "in_tok, out_tok = estimate_tokens()\n",
    "\n",
    "utils.gpt_35_turbo_token_dollar_cost(in_tok, out_tok)"
   ]
  },
  {
   "cell_type": "code",
   "execution_count": 7,
   "metadata": {},
   "outputs": [],
   "source": [
    "# # identify unused functions using vulture (GPT)\n",
    "# import openai\n",
    "# openai.api_key = my_key\n",
    "\n",
    "# # GPT\n",
    "# def identify_remove_unused(cell_src):\n",
    "#     while True:\n",
    "#         try:\n",
    "#             completion = openai.ChatCompletion.create(\n",
    "#                 model=\"gpt-3.5-turbo\",\n",
    "#                 temperature=0,\n",
    "#                 messages = [\n",
    "#                 {\"role\": \"user\", \"content\": \"A function/method is unused if it is defined using 'def' but is not referenced after being defined. Identify and remove unused functions/methods in the code delimited by triple backticks. Output under the headings 'Unused functions' (e.g., ['function1', 'function2', ...] and 'Updated code' (e.g., ```python\\n# updated code here\\n```)\"},\n",
    "#                 {\"role\": \"user\", \"content\": f\"```python\\n{cell_src}\\n```\"}\n",
    "#             ]\n",
    "#             )\n",
    "#         except Exception as e:\n",
    "#             if 'maximum context length' in str(e):\n",
    "#                 print('...Error.. too long...' + str(e))\n",
    "#                 return 'length', None\n",
    "#             else:\n",
    "#                 print('...Error.. trying again...' + str(e))\n",
    "#         else:\n",
    "#             break\n",
    "#     return completion.choices[0].finish_reason, completion.choices[0].message[\"content\"]\n",
    "\n",
    "# gpt_results = []\n",
    "# for i, cell_src in enumerate(random_cells):\n",
    "#     print(f'Processing file {i}')\n",
    "#     finish_reason, result = identify_remove_unused(cell_src)\n",
    "#     print(f'File {i} - {finish_reason}')\n",
    "#     gpt_results.append({'reason': finish_reason, 'result': result})\n",
    "\n",
    "# # save the results to a file\n",
    "# with open(GPT_SAVED_FILE_NAME, 'w') as f:\n",
    "#     f.write(str(gpt_results))"
   ]
  },
  {
   "cell_type": "code",
   "execution_count": 8,
   "metadata": {},
   "outputs": [],
   "source": [
    "# read in gpt result from file\n",
    "with open(GPT_SAVED_FILE_NAME, 'r') as f:\n",
    "    gpt_results = eval(f.read())"
   ]
  },
  {
   "cell_type": "code",
   "execution_count": 9,
   "metadata": {},
   "outputs": [],
   "source": [
    "# now split the data into files\n",
    "gpt_unused_names = []\n",
    "gpt_updated_code = []\n",
    "\n",
    "for i, result in enumerate(gpt_results):\n",
    "    if result['reason'] == 'stop':\n",
    "        # split the result into unused function names and updated code\n",
    "        result_split = result['result'].split('Updated code:')\n",
    "        # get the unused function names\n",
    "        unused_names = result_split[0].split('Unused functions:')[1].strip(\"\\n \")\n",
    "        # if None\n",
    "        if 'None' in unused_names:\n",
    "            unused_names = None\n",
    "        # if we have a list of items\n",
    "        elif \"[\" in unused_names:\n",
    "            unused_names = unused_names.strip(\"[]\").split(\",\")\n",
    "            unused_names = [name.strip().strip(\"'\") for name in unused_names if name.strip() != \"\"]\n",
    "        # we have a bullet point list\n",
    "        elif \"-\" in unused_names:\n",
    "            unused_names = unused_names.strip(\"- \").split(\"\\n- \")\n",
    "            new_unused_names = []\n",
    "            for name in unused_names:\n",
    "                split =  name.split(\"`\")\n",
    "                if len(split) > 1:\n",
    "                    new_unused_names.append(split[1])\n",
    "                else:\n",
    "                    new_unused_names.append(split[0])\n",
    "            unused_names = new_unused_names\n",
    "        else:\n",
    "            assert False\n",
    "\n",
    "        if unused_names == []:\n",
    "            unused_names = None\n",
    "        # get the updated code\n",
    "        updated_code = result_split[1].split('```')[1]\n",
    "        if updated_code.startswith('python'):\n",
    "            updated_code = updated_code[6:]\n",
    "        updated_code = updated_code.strip('\\n')\n",
    "        # store\n",
    "        gpt_unused_names.append(unused_names)\n",
    "        gpt_updated_code.append(updated_code)\n",
    "    else:\n",
    "        # if we error we assume no unused functions\n",
    "        gpt_unused_names.append(None)\n",
    "        gpt_updated_code.append(None)"
   ]
  },
  {
   "cell_type": "code",
   "execution_count": 10,
   "metadata": {},
   "outputs": [],
   "source": [
    "# save the updated code to files\n",
    "import os\n",
    "if not os.path.exists('gpt_code'):\n",
    "    os.makedirs('gpt_code')\n",
    "for i, code in enumerate(gpt_updated_code):\n",
    "    with open(f'gpt_code/{i}.py', 'w') as f:\n",
    "        if gpt_unused_names[i] is None or gpt_updated_code[i] is None:\n",
    "            f.write(random_cells[i])\n",
    "        else:\n",
    "            f.write(code)"
   ]
  },
  {
   "cell_type": "code",
   "execution_count": 11,
   "metadata": {},
   "outputs": [
    {
     "name": "stdout",
     "output_type": "stream",
     "text": [
      "Total before: 302\n"
     ]
    }
   ],
   "source": [
    "before = get_unused_data(NUM_FILES, SAMPLES_FOLDER_NAME, 'function')\n",
    "\n",
    "total_before = sum(len(item) for item in before)\n",
    "print(f'Total before: {total_before}')"
   ]
  },
  {
   "cell_type": "code",
   "execution_count": 12,
   "metadata": {},
   "outputs": [
    {
     "name": "stdout",
     "output_type": "stream",
     "text": [
      "Total after: 270\n"
     ]
    }
   ],
   "source": [
    "after = get_unused_data(NUM_FILES, 'gpt_code', 'function')\n",
    "\n",
    "total_after = sum(len(item) for item in after)\n",
    "print(f'Total after: {total_after}')"
   ]
  },
  {
   "cell_type": "code",
   "execution_count": 13,
   "metadata": {},
   "outputs": [
    {
     "name": "stdout",
     "output_type": "stream",
     "text": [
      "Total percentage difference: -10.596026490066226%\n"
     ]
    }
   ],
   "source": [
    "# List percentage difference between before and after for total\n",
    "print(f'Total percentage difference: {(total_after - total_before) / total_before * 100}%')"
   ]
  },
  {
   "cell_type": "code",
   "execution_count": 14,
   "metadata": {},
   "outputs": [
    {
     "name": "stdout",
     "output_type": "stream",
     "text": [
      "GPT before count: 36\n",
      "Vulture before count: 302\n",
      "------------\n",
      "True positives: 36\n",
      "False positives: 0\n",
      "False negatives: 266\n",
      "------------\n",
      "Files with at least one false positive (and no false negatives)\n",
      "------------\n",
      "Files with at least one false negative (and no false positives)\n",
      "0: 2 false negatives\n",
      "1: 1 false negatives\n",
      "2: 2 false negatives\n",
      "3: 1 false negatives\n",
      "4: 1 false negatives\n",
      "5: 1 false negatives\n",
      "6: 2 false negatives\n",
      "8: 2 false negatives\n",
      "9: 2 false negatives\n",
      "10: 1 false negatives\n",
      "11: 1 false negatives\n",
      "12: 1 false negatives\n",
      "13: 1 false negatives\n",
      "14: 2 false negatives\n",
      "15: 4 false negatives\n",
      "16: 1 false negatives\n",
      "17: 1 false negatives\n",
      "18: 1 false negatives\n",
      "19: 6 false negatives\n",
      "20: 1 false negatives\n",
      "21: 1 false negatives\n",
      "22: 1 false negatives\n",
      "23: 1 false negatives\n",
      "24: 1 false negatives\n",
      "25: 4 false negatives\n",
      "26: 2 false negatives\n",
      "27: 1 false negatives\n",
      "28: 1 false negatives\n",
      "29: 1 false negatives\n",
      "30: 6 false negatives\n",
      "31: 1 false negatives\n",
      "32: 1 false negatives\n",
      "33: 1 false negatives\n",
      "34: 1 false negatives\n",
      "35: 1 false negatives\n",
      "36: 1 false negatives\n",
      "37: 1 false negatives\n",
      "38: 1 false negatives\n",
      "39: 1 false negatives\n",
      "40: 1 false negatives\n",
      "41: 2 false negatives\n",
      "42: 3 false negatives\n",
      "43: 1 false negatives\n",
      "44: 1 false negatives\n",
      "45: 1 false negatives\n",
      "46: 1 false negatives\n",
      "47: 1 false negatives\n",
      "48: 1 false negatives\n",
      "49: 3 false negatives\n",
      "50: 1 false negatives\n",
      "52: 1 false negatives\n",
      "53: 1 false negatives\n",
      "54: 1 false negatives\n",
      "55: 1 false negatives\n",
      "56: 1 false negatives\n",
      "57: 1 false negatives\n",
      "58: 1 false negatives\n",
      "59: 1 false negatives\n",
      "60: 1 false negatives\n",
      "61: 1 false negatives\n",
      "62: 1 false negatives\n",
      "63: 1 false negatives\n",
      "64: 1 false negatives\n",
      "65: 1 false negatives\n",
      "66: 1 false negatives\n",
      "67: 1 false negatives\n",
      "68: 2 false negatives\n",
      "69: 3 false negatives\n",
      "70: 1 false negatives\n",
      "71: 1 false negatives\n",
      "72: 1 false negatives\n",
      "73: 1 false negatives\n",
      "74: 1 false negatives\n",
      "75: 1 false negatives\n",
      "77: 1 false negatives\n",
      "78: 1 false negatives\n",
      "79: 1 false negatives\n",
      "80: 1 false negatives\n",
      "81: 1 false negatives\n",
      "82: 1 false negatives\n",
      "83: 1 false negatives\n",
      "84: 1 false negatives\n",
      "85: 4 false negatives\n",
      "86: 1 false negatives\n",
      "87: 2 false negatives\n",
      "88: 2 false negatives\n",
      "89: 1 false negatives\n",
      "90: 1 false negatives\n",
      "91: 1 false negatives\n",
      "92: 3 false negatives\n",
      "93: 1 false negatives\n",
      "94: 1 false negatives\n",
      "96: 2 false negatives\n",
      "97: 1 false negatives\n",
      "98: 1 false negatives\n",
      "100: 1 false negatives\n",
      "101: 1 false negatives\n",
      "102: 1 false negatives\n",
      "103: 6 false negatives\n",
      "104: 1 false negatives\n",
      "105: 2 false negatives\n",
      "106: 1 false negatives\n",
      "107: 1 false negatives\n",
      "108: 4 false negatives\n",
      "110: 1 false negatives\n",
      "111: 1 false negatives\n",
      "112: 1 false negatives\n",
      "114: 2 false negatives\n",
      "115: 1 false negatives\n",
      "116: 1 false negatives\n",
      "117: 1 false negatives\n",
      "118: 1 false negatives\n",
      "119: 2 false negatives\n",
      "120: 1 false negatives\n",
      "121: 1 false negatives\n",
      "122: 4 false negatives\n",
      "124: 3 false negatives\n",
      "125: 1 false negatives\n",
      "126: 1 false negatives\n",
      "127: 1 false negatives\n",
      "128: 1 false negatives\n",
      "129: 1 false negatives\n",
      "130: 1 false negatives\n",
      "131: 1 false negatives\n",
      "132: 1 false negatives\n",
      "133: 1 false negatives\n",
      "134: 1 false negatives\n",
      "136: 1 false negatives\n",
      "137: 1 false negatives\n",
      "138: 1 false negatives\n",
      "139: 1 false negatives\n",
      "140: 3 false negatives\n",
      "141: 1 false negatives\n",
      "142: 2 false negatives\n",
      "143: 1 false negatives\n",
      "144: 1 false negatives\n",
      "145: 1 false negatives\n",
      "146: 1 false negatives\n",
      "147: 1 false negatives\n",
      "148: 1 false negatives\n",
      "149: 1 false negatives\n",
      "150: 1 false negatives\n",
      "151: 1 false negatives\n",
      "152: 1 false negatives\n",
      "153: 1 false negatives\n",
      "154: 1 false negatives\n",
      "155: 1 false negatives\n",
      "156: 1 false negatives\n",
      "157: 4 false negatives\n",
      "158: 5 false negatives\n",
      "159: 1 false negatives\n",
      "160: 1 false negatives\n",
      "161: 1 false negatives\n",
      "162: 1 false negatives\n",
      "163: 1 false negatives\n",
      "164: 1 false negatives\n",
      "165: 1 false negatives\n",
      "166: 1 false negatives\n",
      "167: 1 false negatives\n",
      "168: 1 false negatives\n",
      "169: 1 false negatives\n",
      "170: 1 false negatives\n",
      "171: 1 false negatives\n",
      "172: 1 false negatives\n",
      "173: 1 false negatives\n",
      "174: 1 false negatives\n",
      "175: 1 false negatives\n",
      "176: 1 false negatives\n",
      "177: 1 false negatives\n",
      "178: 1 false negatives\n",
      "180: 1 false negatives\n",
      "181: 1 false negatives\n",
      "182: 1 false negatives\n",
      "183: 1 false negatives\n",
      "184: 1 false negatives\n",
      "185: 1 false negatives\n",
      "186: 2 false negatives\n",
      "187: 1 false negatives\n",
      "188: 1 false negatives\n",
      "189: 1 false negatives\n",
      "191: 4 false negatives\n",
      "192: 1 false negatives\n",
      "193: 1 false negatives\n",
      "194: 1 false negatives\n",
      "195: 1 false negatives\n",
      "196: 1 false negatives\n",
      "197: 1 false negatives\n",
      "198: 1 false negatives\n",
      "199: 1 false negatives\n",
      "201: 1 false negatives\n",
      "202: 1 false negatives\n",
      "203: 1 false negatives\n",
      "204: 1 false negatives\n",
      "205: 1 false negatives\n",
      "206: 1 false negatives\n",
      "207: 1 false negatives\n",
      "208: 1 false negatives\n"
     ]
    }
   ],
   "source": [
    "stats_results_unused(gpt_unused_names, before)"
   ]
  },
  {
   "cell_type": "code",
   "execution_count": 22,
   "metadata": {},
   "outputs": [
    {
     "name": "stdout",
     "output_type": "stream",
     "text": [
      "def insert_random_character(s):\n",
      "    \"\"\"Returns s with a random character inserted\"\"\"\n",
      "    pos = random.randint(0, len(s))\n",
      "    random_character = chr(random.randrange(32, 127))\n",
      "    # print(\"Inserting\", repr(random_character), \"at\", pos)\n",
      "    return s[:pos] + random_character + s[pos:]\n"
     ]
    }
   ],
   "source": [
    "print(random_cells[1])"
   ]
  },
  {
   "cell_type": "code",
   "execution_count": 21,
   "metadata": {},
   "outputs": [
    {
     "name": "stdout",
     "output_type": "stream",
     "text": [
      "def insert_random_character(s):\n",
      "    \"\"\"Returns s with a random character inserted\"\"\"\n",
      "    pos = random.randint(0, len(s))\n",
      "    random_character = chr(random.randrange(32, 127))\n",
      "    # print(\"Inserting\", repr(random_character), \"at\", pos)\n",
      "    return s[:pos] + random_character + s[pos:]\n"
     ]
    }
   ],
   "source": [
    "print(gpt_updated_code[1])"
   ]
  },
  {
   "cell_type": "code",
   "execution_count": 23,
   "metadata": {},
   "outputs": [
    {
     "data": {
      "text/plain": [
       "['insert_random_character']"
      ]
     },
     "execution_count": 23,
     "metadata": {},
     "output_type": "execute_result"
    }
   ],
   "source": [
    "before[1]"
   ]
  },
  {
   "cell_type": "code",
   "execution_count": 24,
   "metadata": {},
   "outputs": [
    {
     "data": {
      "text/plain": [
       "['insert_random_character']"
      ]
     },
     "execution_count": 24,
     "metadata": {},
     "output_type": "execute_result"
    }
   ],
   "source": [
    "after[1]"
   ]
  },
  {
   "cell_type": "code",
   "execution_count": 25,
   "metadata": {},
   "outputs": [],
   "source": [
    "gpt_unused_names[1]"
   ]
  },
  {
   "cell_type": "code",
   "execution_count": 15,
   "metadata": {},
   "outputs": [],
   "source": [
    "# delete 'gpt_code' folder\n",
    "!rm -rf gpt_code"
   ]
  }
 ],
 "metadata": {
  "kernelspec": {
   "display_name": "Python 3",
   "language": "python",
   "name": "python3"
  },
  "language_info": {
   "codemirror_mode": {
    "name": "ipython",
    "version": 3
   },
   "file_extension": ".py",
   "mimetype": "text/x-python",
   "name": "python",
   "nbconvert_exporter": "python",
   "pygments_lexer": "ipython3",
   "version": "3.11.5"
  },
  "orig_nbformat": 4
 },
 "nbformat": 4,
 "nbformat_minor": 2
}
