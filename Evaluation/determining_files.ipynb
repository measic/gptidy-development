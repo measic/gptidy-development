{
 "cells": [
  {
   "cell_type": "code",
   "execution_count": 1,
   "metadata": {},
   "outputs": [],
   "source": [
    "NUM_FILES = 6098"
   ]
  },
  {
   "cell_type": "code",
   "execution_count": 2,
   "metadata": {},
   "outputs": [],
   "source": [
    "# read in all files in the folder all_cells\n",
    "all_cells = []\n",
    "for i in range(NUM_FILES):\n",
    "    with open(f'all_cells/{i}.py', 'r') as f:\n",
    "        all_cells.append(f.read())"
   ]
  },
  {
   "cell_type": "code",
   "execution_count": 5,
   "metadata": {},
   "outputs": [
    {
     "name": "stdout",
     "output_type": "stream",
     "text": [
      "[11, 17, 19, 25, 41, 42, 43, 44, 45, 46, 47, 70, 94, 99, 101, 110, 116, 120, 136, 169, 170, 171, 225, 230, 263, 264, 265, 266, 267, 268, 401, 404, 448, 458, 517, 518, 519, 524, 538, 598, 599, 602, 603, 604, 605, 606, 607, 627, 690, 697, 698, 699, 700, 701, 710, 711, 810, 819, 825, 839, 914, 915, 919, 921, 928, 934, 936, 937, 955, 956, 957, 958, 959, 962, 969, 970, 1023, 1026, 1027, 1046, 1049, 1053, 1056, 1059, 1064, 1068, 1070, 1072, 1112, 1146, 1155, 1156, 1157, 1158, 1159, 1160, 1172, 1174, 1226, 1236, 1243, 1246, 1247, 1478, 1516, 1521, 1537, 1586, 1603, 1604, 1621, 1629, 1636, 1673, 1738, 1764, 1766, 1776, 1777, 1778, 1780, 1781, 1782, 1783, 1801, 1802, 1804, 1805, 1862, 1896, 1910, 1913, 1917, 1918, 1921, 1922, 1931, 1939, 1940, 1941, 2083, 2086, 2107, 2111, 2127, 2129, 2172, 2173, 2174, 2175, 2176, 2180, 2182, 2224, 2235, 2243, 2247, 2255, 2264, 2266, 2268, 2269, 2273, 2276, 2279, 2286, 2290, 2319, 2323, 2384, 2463, 2468, 2475, 2476, 2492, 2500, 2506, 2640, 2641, 2642, 2643, 2644, 2645, 2646, 2647, 2648, 2649, 2650, 2651, 2652, 2653, 2654, 2655, 2656, 2666, 2698, 2704, 2745, 2748, 2750, 2753, 2754, 2757, 2760, 2761, 2791, 2799, 2801, 2803, 2823, 2831, 2847, 2853, 2859, 2860, 2863, 2864, 2866, 2867, 2869, 2870, 2913, 2916, 2922, 2936, 2951, 2953, 2954, 2955, 2956, 2958, 2959, 2960, 2961, 2962, 2963, 2964, 2978, 3048, 3049, 3088, 3105, 3108, 3111, 3114, 3117, 3120, 3123, 3129, 3141, 3143, 3151, 3155, 3157, 3160, 3162, 3166, 3194, 3210, 3211, 3246, 3248, 3266, 3279, 3281, 3283, 3285, 3287, 3299, 3300, 3305, 3347, 3350, 3352, 3354, 3495, 3498, 3500, 3503, 3509, 3512, 3655, 3657, 3672, 3674, 3687, 3688, 3691, 3694, 3696, 3701, 3703, 3705, 3710, 3717, 3718, 3721, 3725, 3747, 3748, 3804, 3825, 3828, 3829, 3830, 3841, 3851, 3892, 3893, 3894, 3906, 3924, 3944, 4035, 4056, 4091, 4131, 4150, 4200, 4205, 4211, 4214, 4317, 4321, 4359, 4363, 4364, 4365, 4379, 4389, 4409, 4432, 4502, 4518, 4522, 4603, 4608, 4613, 4618, 4621, 4629, 4639, 4643, 4647, 4648, 4649, 4652, 4667, 4679, 4680, 4681, 4682, 4688, 4691, 4796, 4797, 4798, 4799, 4807, 4808, 4825, 4854, 4963, 4965, 4971, 4973, 4975, 4977, 4979, 4981, 4989, 4990, 4991, 4992, 4993, 4996, 5004, 5006, 5016, 5034, 5037, 5039, 5041, 5045, 5050, 5052, 5054, 5056, 5059, 5062, 5064, 5194, 5199, 5211, 5214, 5218, 5221, 5301, 5414, 5415, 5418, 5419, 5430, 5431, 5432, 5433, 5436, 5447, 5449, 5452, 5458, 5461, 5471, 5473, 5475, 5478, 5480, 5482, 5486, 5488, 5490, 5513, 5582, 5590, 5631, 5656, 5657, 5659, 5674, 5675, 5678, 5682, 5687, 5694, 5695, 5701, 5727, 5729, 5739, 5740, 5741, 5743, 5744, 5745, 5795, 5800, 5809, 5812, 5819, 5840, 5874, 5897, 5902, 5910, 5933, 5937, 5945, 5952, 5964, 5968, 6032, 6040, 6063, 6066]\n"
     ]
    }
   ],
   "source": [
    "import subprocess\n",
    "\n",
    "desired_file_ids = []\n",
    "\n",
    "for i in range(NUM_FILES):\n",
    "    file_name = f'all_cells/{i}.py'\n",
    "    result = subprocess.run(['vulture', file_name], capture_output=True, text=True)\n",
    "    outputs = result.stdout.strip().split('\\n')\n",
    "    outputs = [line for line in outputs if 'unused function' in line or 'unused method' in line]\n",
    "    for output in outputs:\n",
    "        file_number = int(output.split('/')[1].split(\".\")[0])\n",
    "        if file_number not in desired_file_ids:\n",
    "            desired_file_ids.append(file_number)\n",
    "        break\n",
    "\n",
    "desired_file_ids.sort()\n",
    "print(desired_file_ids)"
   ]
  },
  {
   "cell_type": "code",
   "execution_count": 6,
   "metadata": {},
   "outputs": [
    {
     "data": {
      "text/plain": [
       "464"
      ]
     },
     "execution_count": 6,
     "metadata": {},
     "output_type": "execute_result"
    }
   ],
   "source": [
    "len(desired_file_ids)"
   ]
  },
  {
   "cell_type": "code",
   "execution_count": null,
   "metadata": {},
   "outputs": [],
   "source": [
    "# CELL IS SPECIFIC TO PYCODESTYLE\n",
    "import subprocess\n",
    "\n",
    "desired_file_ids = []\n",
    "\n",
    "error_counts = {}\n",
    "\n",
    "for i in range(NUM_FILES):\n",
    "    file_name = f'all_cells/{i}.py'\n",
    "    result = subprocess.run(['pycodestyle', '--ignore=W292', '--statistics', file_name], stdout=subprocess.PIPE).stdout.decode('utf-8')\n",
    "    result = result.split('\\n')\n",
    "    # keep only the lines that start with an integer\n",
    "    result = [line for line in result if line and line[0].isdigit()]\n",
    "    # store the error counts in a hash\n",
    "    if len(result) > 0 and i not in desired_file_ids:\n",
    "        desired_file_ids.append(i)\n",
    "\n",
    "desired_file_ids.sort()\n",
    "print(desired_file_ids)"
   ]
  },
  {
   "cell_type": "code",
   "execution_count": 7,
   "metadata": {},
   "outputs": [
    {
     "name": "stdout",
     "output_type": "stream",
     "text": [
      "464\n"
     ]
    }
   ],
   "source": [
    "print(len(desired_file_ids))"
   ]
  },
  {
   "cell_type": "code",
   "execution_count": 8,
   "metadata": {},
   "outputs": [],
   "source": [
    "# select a random sample\n",
    "import random\n",
    "random.seed(42)\n",
    "random.shuffle(desired_file_ids)\n",
    "random_sample = desired_file_ids[:350]"
   ]
  },
  {
   "cell_type": "code",
   "execution_count": null,
   "metadata": {},
   "outputs": [],
   "source": [
    "# save random selection of cells to a folder\n",
    "import os\n",
    "if not os.path.exists('random_samples'):\n",
    "    os.makedirs('random_samples')\n",
    "\n",
    "for i, file_id in enumerate(random_sample):\n",
    "    with open(f'random_samples/{i}.py', 'w') as f:\n",
    "        f.write(all_cells[file_id])"
   ]
  }
 ],
 "metadata": {
  "kernelspec": {
   "display_name": "Python 3",
   "language": "python",
   "name": "python3"
  },
  "language_info": {
   "codemirror_mode": {
    "name": "ipython",
    "version": 3
   },
   "file_extension": ".py",
   "mimetype": "text/x-python",
   "name": "python",
   "nbconvert_exporter": "python",
   "pygments_lexer": "ipython3",
   "version": "3.11.4"
  },
  "orig_nbformat": 4
 },
 "nbformat": 4,
 "nbformat_minor": 2
}
