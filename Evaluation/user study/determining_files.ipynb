{
 "cells": [
  {
   "cell_type": "code",
   "execution_count": null,
   "metadata": {},
   "outputs": [],
   "source": [
    "import pandas as pd"
   ]
  },
  {
   "cell_type": "code",
   "execution_count": 1,
   "metadata": {},
   "outputs": [],
   "source": [
    "# read in all cells urls\n",
    "cell_urls = []\n",
    "with open('../all_cells_urls.txt', 'r') as f:\n",
    "    for line in f:\n",
    "        cell_urls.append(line.strip())\n",
    "\n",
    "cell_contents = []\n",
    "\n",
    "# read in associated cells\n",
    "for i in range(len(cell_urls)):\n",
    "    with open(f'../all_cells/{i}.py', 'r') as f:\n",
    "        cell_contents.append(f.read())"
   ]
  },
  {
   "cell_type": "code",
   "execution_count": 2,
   "metadata": {},
   "outputs": [],
   "source": [
    "# organize by cell_url\n",
    "cell_contents_by_notebook = {}\n",
    "\n",
    "for id, cell_content in enumerate(cell_contents):\n",
    "    cell_url = cell_urls[id]\n",
    "    if cell_url not in cell_contents_by_notebook:\n",
    "        cell_contents_by_notebook[cell_url] = []\n",
    "    cell_contents_by_notebook[cell_url].append((id, cell_content))"
   ]
  },
  {
   "cell_type": "code",
   "execution_count": null,
   "metadata": {},
   "outputs": [],
   "source": []
  }
 ],
 "metadata": {
  "kernelspec": {
   "display_name": "Python 3",
   "language": "python",
   "name": "python3"
  },
  "language_info": {
   "codemirror_mode": {
    "name": "ipython",
    "version": 3
   },
   "file_extension": ".py",
   "mimetype": "text/x-python",
   "name": "python",
   "nbconvert_exporter": "python",
   "pygments_lexer": "ipython3",
   "version": "3.11.4"
  },
  "orig_nbformat": 4
 },
 "nbformat": 4,
 "nbformat_minor": 2
}
