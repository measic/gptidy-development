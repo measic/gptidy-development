{
 "cells": [
  {
   "cell_type": "code",
   "execution_count": 1,
   "metadata": {},
   "outputs": [],
   "source": [
    "import sys\n",
    "sys.path.append('../../')\n",
    "from utils import print_check_gpt_results"
   ]
  },
  {
   "cell_type": "code",
   "execution_count": 2,
   "metadata": {},
   "outputs": [],
   "source": [
    "NUM_FILES = 350\n",
    "FOLDER_NAME = '../random_samples_formatting'\n",
    "GPT_SAVED_FILE_NAME = 'formatted_code_gpt'\n",
    "GPT_SAVED_FOLDER_NAME = 'reformatted_gpt'"
   ]
  },
  {
   "cell_type": "code",
   "execution_count": 3,
   "metadata": {},
   "outputs": [],
   "source": [
    "# read in files from folder random_cells\n",
    "random_cells = []\n",
    "\n",
    "for i in range(NUM_FILES):\n",
    "    file_name = f'{FOLDER_NAME}/{i}.py'\n",
    "    with open(file_name, 'r') as f:\n",
    "        random_cells.append(f.read())"
   ]
  },
  {
   "cell_type": "code",
   "execution_count": 5,
   "metadata": {},
   "outputs": [],
   "source": [
    "task = \"\"\"Format the code delimited by triple backticks according to PEP 8 conventions. Do not add, remove, or change anything else. Structure your response under the following headings: 'Identified formatting issues' (a short paragraph describing the formatting issues) and 'Formatted code' (the full code with all formatting issues fixed).\"\"\"\n",
    "\n",
    "shots_input = []\n",
    "shots_output = []\n",
    "for i in range(1, 5):\n",
    "    with open(f'../shots/shot{i}.py', 'r') as f:\n",
    "        shots_input.append(f.read())\n",
    "    with open(f'../shots/shot{i}_after.py', 'r') as f:\n",
    "        shots_output.append(f.read())\n",
    "\n",
    "ex1_input = f\"\"\"```python\n",
    "{shots_input[0]}\n",
    "```\"\"\"\n",
    "\n",
    "ex1_output = f\"\"\"Identified formatting issues:\n",
    "- Imports 'utils' and 'rain' should not be on the same line\n",
    "- The indentation in the function 'evaluate' contains tabs\n",
    "- The function 'evaluate' should have two tabs after its definition, not one\n",
    "\n",
    "Formatted code:\n",
    "```python\n",
    "{shots_output[0]}\n",
    "```\"\"\"\n",
    "\n",
    "ex2_input = f\"\"\"```python\n",
    "{shots_input[1]}\n",
    "```\"\"\"\n",
    "\n",
    "ex2_output = f\"\"\"Identified formatting issues:\n",
    "- Arithmetic operators should have whitespace around them\n",
    "- There is a line break after the binary operator but the line break should be before the binary operator\n",
    "- No statements should end with a semicolon\n",
    "\n",
    "Formatted code:\n",
    "```python\n",
    "{shots_output[1]}\n",
    "```\"\"\"\n",
    "\n",
    "ex3_input = f\"\"\"```python\n",
    "{shots_input[2]}\n",
    "```\"\"\"\n",
    "\n",
    "ex3_output = f\"\"\"Identified formatting issues:\n",
    "- Blank line contains whitespace but it should not\n",
    "- The if statement is too long and should be split into multiple lines\n",
    "- The code block inside the if-statement is not indented with 4 spaces\n",
    "\n",
    "Formatted code:\n",
    "```python\n",
    "{shots_output[2]}\n",
    "```\"\"\"\n",
    "\n",
    "ex4_input = f\"\"\"```python\n",
    "{shots_input[3]}\n",
    "```\"\"\"\n",
    "\n",
    "ex4_output = f\"\"\"Identified formatting issues:\n",
    "- There should be two blank lines between the imports and the first function not one\n",
    "- The return statement in the function 'find' is too long and should be split into multiple lines\n",
    "- No blank lines should contain whitespace\n",
    "- The continuation line for the print statement is under-indented\n",
    "- The closing bracket of the variable assignment 'updated_offset' does not match the indentation of the opening bracket's line\n",
    "\n",
    "Formatted code:\n",
    "```python\n",
    "{shots_output[3]}\n",
    "```\"\"\""
   ]
  },
  {
   "cell_type": "code",
   "execution_count": 6,
   "metadata": {},
   "outputs": [
    {
     "data": {
      "text/plain": [
       "0.5412015"
      ]
     },
     "execution_count": 6,
     "metadata": {},
     "output_type": "execute_result"
    }
   ],
   "source": [
    "# Estimate cost\n",
    "import sys\n",
    "sys.path.append(\"../../..\")\n",
    "import utils\n",
    "\n",
    "def estimate_tokens():\n",
    "    in_tok = ''\n",
    "    out_tok = ''\n",
    "    for i, cell_src in enumerate(random_cells):\n",
    "        # estimate prompt\n",
    "        in_tok += task + ex1_input + ex1_output + ex2_input + ex2_output + ex3_input + ex3_output + ex4_input + ex4_output\n",
    "        in_tok += f\"```python\\n{cell_src}\\n```\"\n",
    "        # estimate response\n",
    "        out_tok += cell_src\n",
    "    return in_tok, out_tok\n",
    "\n",
    "in_tok, out_tok = estimate_tokens()\n",
    "\n",
    "utils.gpt_35_turbo_token_dollar_cost(in_tok, out_tok)"
   ]
  },
  {
   "cell_type": "code",
   "execution_count": 7,
   "metadata": {},
   "outputs": [],
   "source": [
    "# # identify unused functions using vulture (GPT)\n",
    "# import openai\n",
    "# openai.api_key = my_key\n",
    "\n",
    "# # GPT\n",
    "# def format_code(cell_src):\n",
    "#     while True:\n",
    "#         try:\n",
    "#             completion = openai.ChatCompletion.create(\n",
    "#                 model=\"gpt-3.5-turbo\",\n",
    "#                 temperature=0,\n",
    "#                 messages = [\n",
    "#                 {\"role\": \"user\", \"content\": task},\n",
    "#                 {\"role\": \"user\", \"content\": ex1_input},\n",
    "#                 {\"role\": \"assistant\", \"content\": ex1_output},\n",
    "#                 {\"role\": \"user\", \"content\": ex2_input},\n",
    "#                 {\"role\": \"assistant\", \"content\": ex2_output},\n",
    "#                 {\"role\": \"user\", \"content\": ex3_input},\n",
    "#                 {\"role\": \"assistant\", \"content\": ex3_output},\n",
    "#                 {\"role\": \"user\", \"content\": ex4_input},\n",
    "#                 {\"role\": \"assistant\", \"content\": ex4_output},\n",
    "#                 {\"role\": \"user\", \"content\": f\"```python\\n{cell_src}\\n```\"},\n",
    "#             ]\n",
    "#             )\n",
    "#         except Exception as e:\n",
    "#             if 'maximum context length' in str(e):\n",
    "#                 print('...Error.. too long...' + str(e))\n",
    "#                 return 'length', None\n",
    "#             else:\n",
    "#                 print('...Error.. trying again...' + str(e))\n",
    "#         else:\n",
    "#             break\n",
    "#     return completion.choices[0].finish_reason, completion.choices[0].message[\"content\"]\n",
    "\n",
    "# gpt_results = []\n",
    "# for i, cell_src in enumerate(random_cells):\n",
    "#     print(f'Processing file {i}')\n",
    "#     finish_reason, result = format_code(cell_src)\n",
    "#     print(f'File {i} - {finish_reason}')\n",
    "#     gpt_results.append({'reason': finish_reason, 'result': result})\n",
    "\n",
    "# # save the results to a file\n",
    "# with open(GPT_SAVED_FILE_NAME, 'w') as f:\n",
    "#     f.write(str(gpt_results))"
   ]
  },
  {
   "cell_type": "code",
   "execution_count": 8,
   "metadata": {},
   "outputs": [],
   "source": [
    "# read in gpt result from file\n",
    "with open(GPT_SAVED_FILE_NAME, 'r') as f:\n",
    "    gpt_results = eval(f.read())"
   ]
  },
  {
   "cell_type": "code",
   "execution_count": 9,
   "metadata": {},
   "outputs": [],
   "source": [
    "sys.path.append('../')\n",
    "from common import pycodestyle, group_by_error, print_num_reductions, print_percentage_difference, unpack_gpt, IGNORE_TYPES"
   ]
  },
  {
   "cell_type": "code",
   "execution_count": 10,
   "metadata": {},
   "outputs": [],
   "source": [
    "gpt_formatted_code, gpt_changes = unpack_gpt(gpt_results)"
   ]
  },
  {
   "cell_type": "code",
   "execution_count": 11,
   "metadata": {},
   "outputs": [],
   "source": [
    "# print all to new folder\n",
    "import os\n",
    "if not os.path.exists(GPT_SAVED_FOLDER_NAME):\n",
    "    os.makedirs(GPT_SAVED_FOLDER_NAME)\n",
    "for i, code in enumerate(gpt_formatted_code):\n",
    "    with open(f'{GPT_SAVED_FOLDER_NAME}/{i}.py', 'w') as f:\n",
    "        if gpt_formatted_code[i] is None or gpt_changes[i] is None:\n",
    "            f.write(random_cells[i])\n",
    "        else:\n",
    "            f.write(code)"
   ]
  },
  {
   "cell_type": "code",
   "execution_count": 12,
   "metadata": {},
   "outputs": [
    {
     "name": "stdout",
     "output_type": "stream",
     "text": [
      "Total before: 3062\n"
     ]
    }
   ],
   "source": [
    "# store error counts in a hash\n",
    "error_counts_before = pycodestyle(FOLDER_NAME, NUM_FILES, IGNORE_TYPES)\n",
    "\n",
    "# print the error counts\n",
    "total_errors_before = sum(error_counts_before.values())\n",
    "print(f'Total before: {total_errors_before}')"
   ]
  },
  {
   "cell_type": "code",
   "execution_count": 13,
   "metadata": {},
   "outputs": [
    {
     "name": "stdout",
     "output_type": "stream",
     "text": [
      "Total after: 944\n"
     ]
    }
   ],
   "source": [
    "# store error counts in a hash\n",
    "error_counts_after = pycodestyle(GPT_SAVED_FOLDER_NAME, NUM_FILES, IGNORE_TYPES)\n",
    "\n",
    "# print the error counts\n",
    "total_errors_after = sum(error_counts_after.values())\n",
    "print(f'Total after: {total_errors_after}')"
   ]
  },
  {
   "cell_type": "code",
   "execution_count": 14,
   "metadata": {},
   "outputs": [
    {
     "data": {
      "text/plain": [
       "{'E501': 447,\n",
       " 'E226': 181,\n",
       " 'E231': 592,\n",
       " 'E266': 80,\n",
       " 'E303': 8,\n",
       " 'W293': 213,\n",
       " 'E251': 359,\n",
       " 'E265': 130,\n",
       " 'W291': 142,\n",
       " 'E202': 29,\n",
       " 'E203': 47,\n",
       " 'E241': 16,\n",
       " 'E225': 154,\n",
       " 'E117': 2,\n",
       " 'E128': 33,\n",
       " 'E302': 48,\n",
       " 'E401': 2,\n",
       " 'E703': 52,\n",
       " 'E221': 76,\n",
       " 'E305': 27,\n",
       " 'E228': 5,\n",
       " 'E402': 32,\n",
       " 'E111': 141,\n",
       " 'E114': 22,\n",
       " 'E261': 46,\n",
       " 'E722': 2,\n",
       " 'E201': 29,\n",
       " 'E275': 9,\n",
       " 'E126': 4,\n",
       " 'E127': 3,\n",
       " 'E211': 13,\n",
       " 'E271': 2,\n",
       " 'E262': 27,\n",
       " 'E113': 2,\n",
       " 'E116': 8,\n",
       " 'W504': 6,\n",
       " 'E123': 2,\n",
       " 'E101': 1,\n",
       " 'W191': 2,\n",
       " 'E701': 3,\n",
       " 'E121': 33,\n",
       " 'E131': 3,\n",
       " 'E702': 9,\n",
       " 'E741': 2,\n",
       " 'E115': 3,\n",
       " 'E124': 1,\n",
       " 'E222': 8,\n",
       " 'E301': 2,\n",
       " 'E712': 1,\n",
       " 'E122': 3}"
      ]
     },
     "execution_count": 14,
     "metadata": {},
     "output_type": "execute_result"
    }
   ],
   "source": [
    "error_counts_before"
   ]
  },
  {
   "cell_type": "code",
   "execution_count": 15,
   "metadata": {},
   "outputs": [
    {
     "data": {
      "text/plain": [
       "{'E501': 456,\n",
       " 'E226': 46,\n",
       " 'W293': 116,\n",
       " 'E225': 19,\n",
       " 'E231': 34,\n",
       " 'E266': 38,\n",
       " 'W291': 49,\n",
       " 'E302': 12,\n",
       " 'E305': 5,\n",
       " 'E228': 3,\n",
       " 'E722': 1,\n",
       " 'E113': 6,\n",
       " 'E275': 5,\n",
       " 'E265': 19,\n",
       " 'E402': 6,\n",
       " 'W504': 11,\n",
       " 'E111': 13,\n",
       " 'E116': 2,\n",
       " 'E741': 1,\n",
       " 'E211': 4,\n",
       " 'E221': 26,\n",
       " 'E241': 7,\n",
       " 'E703': 7,\n",
       " 'E127': 1,\n",
       " 'E128': 1,\n",
       " 'E122': 1,\n",
       " 'E222': 1,\n",
       " 'E301': 1,\n",
       " 'E712': 1,\n",
       " 'E261': 1,\n",
       " 'E262': 1,\n",
       " 'E251': 48,\n",
       " 'E115': 2}"
      ]
     },
     "execution_count": 15,
     "metadata": {},
     "output_type": "execute_result"
    }
   ],
   "source": [
    "error_counts_after"
   ]
  },
  {
   "cell_type": "code",
   "execution_count": 16,
   "metadata": {},
   "outputs": [
    {
     "name": "stdout",
     "output_type": "stream",
     "text": [
      "Total percentage difference: -69.17047681254083%\n"
     ]
    }
   ],
   "source": [
    "# List percentage difference between before and after for total\n",
    "print(f'Total percentage difference: {(total_errors_after - total_errors_before) / total_errors_before * 100}%')"
   ]
  },
  {
   "cell_type": "code",
   "execution_count": 17,
   "metadata": {},
   "outputs": [
    {
     "data": {
      "text/plain": [
       "{'E1': 261,\n",
       " 'E2': 1803,\n",
       " 'E3': 85,\n",
       " 'E4': 34,\n",
       " 'E5': 447,\n",
       " 'E7': 69,\n",
       " 'E9': 0,\n",
       " 'W1': 2,\n",
       " 'W2': 355,\n",
       " 'W3': 0,\n",
       " 'W5': 6,\n",
       " 'W6': 0}"
      ]
     },
     "execution_count": 17,
     "metadata": {},
     "output_type": "execute_result"
    }
   ],
   "source": [
    "error_counts_grouped_before = group_by_error(error_counts_before)\n",
    "error_counts_grouped_before"
   ]
  },
  {
   "cell_type": "code",
   "execution_count": 18,
   "metadata": {},
   "outputs": [
    {
     "data": {
      "text/plain": [
       "{'E1': 26,\n",
       " 'E2': 252,\n",
       " 'E3': 18,\n",
       " 'E4': 6,\n",
       " 'E5': 456,\n",
       " 'E7': 10,\n",
       " 'E9': 0,\n",
       " 'W1': 0,\n",
       " 'W2': 165,\n",
       " 'W3': 0,\n",
       " 'W5': 11,\n",
       " 'W6': 0}"
      ]
     },
     "execution_count": 18,
     "metadata": {},
     "output_type": "execute_result"
    }
   ],
   "source": [
    "error_counts_grouped_after = group_by_error(error_counts_after)\n",
    "error_counts_grouped_after"
   ]
  },
  {
   "cell_type": "code",
   "execution_count": 19,
   "metadata": {},
   "outputs": [
    {
     "name": "stdout",
     "output_type": "stream",
     "text": [
      "('E1', 'Indentation'): 261 -> 26\n",
      "('E2', 'Whitespace'): 1803 -> 252\n",
      "('E3', 'Blank line'): 85 -> 18\n",
      "('E4', 'Import'): 34 -> 6\n",
      "('E5', 'Line length'): 447 -> 456\n",
      "('E7', 'Statement'): 69 -> 10\n",
      "('E9', 'Runtime'): 0 -> 0\n",
      "('W1', 'Indentation warning'): 2 -> 0\n",
      "('W2', 'Whitespace warning'): 355 -> 165\n",
      "('W3', 'Blank line warning'): 0 -> 0\n",
      "('W5', 'Line break warning'): 6 -> 11\n",
      "('W6', 'Deprecation warning'): 0 -> 0\n"
     ]
    }
   ],
   "source": [
    "print_num_reductions(error_counts_grouped_before, error_counts_grouped_after)"
   ]
  },
  {
   "cell_type": "code",
   "execution_count": 20,
   "metadata": {},
   "outputs": [
    {
     "name": "stdout",
     "output_type": "stream",
     "text": [
      "('E1', 'Indentation'): -90.04%\n",
      "('E2', 'Whitespace'): -86.02%\n",
      "('E3', 'Blank line'): -78.82%\n",
      "('E4', 'Import'): -82.35%\n",
      "('E5', 'Line length'): 2.01%\n",
      "('E7', 'Statement'): -85.51%\n",
      "('E9', 'Runtime'): Undefined\n",
      "('W1', 'Indentation warning'): -100.0%\n",
      "('W2', 'Whitespace warning'): -53.52%\n",
      "('W3', 'Blank line warning'): Undefined\n",
      "('W5', 'Line break warning'): 83.33%\n",
      "('W6', 'Deprecation warning'): Undefined\n"
     ]
    }
   ],
   "source": [
    "print_percentage_difference(error_counts_grouped_before, error_counts_grouped_after)"
   ]
  }
 ],
 "metadata": {
  "kernelspec": {
   "display_name": "Python 3",
   "language": "python",
   "name": "python3"
  },
  "language_info": {
   "codemirror_mode": {
    "name": "ipython",
    "version": 3
   },
   "file_extension": ".py",
   "mimetype": "text/x-python",
   "name": "python",
   "nbconvert_exporter": "python",
   "pygments_lexer": "ipython3",
   "version": "3.11.5"
  },
  "orig_nbformat": 4
 },
 "nbformat": 4,
 "nbformat_minor": 2
}
