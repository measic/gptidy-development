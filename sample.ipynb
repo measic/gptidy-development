{
 "cells": [
  {
   "cell_type": "code",
   "execution_count": null,
   "metadata": {},
   "outputs": [],
   "source": [
    "%matplotlib inline\n",
    "import matplotlib.pyplot as plt\n",
    "import numpy as np\n",
    "import scipy as sc\n",
    "import scipy.optimize as sco\n",
    "import scipy.constants as c\n",
    "from scipy.optimize import curve_fit as cf\n",
    "import pandas as pd"
   ]
  },
  {
   "cell_type": "code",
   "execution_count": null,
   "metadata": {},
   "outputs": [],
   "source": [
    "# Brechungsindex\n",
    "n=1.37927\n",
    "# Laserwellenlänge\n",
    "wavelen=532e-9\n",
    "# Umrechnung ins grad Maß\n",
    "gamma= np.pi/180 "
   ]
  },
  {
   "cell_type": "code",
   "execution_count": null,
   "metadata": {},
   "outputs": [],
   "source": [
    "def formfaktor(winkel,a,amp=1):\n",
    "    #winkel=winkel+offset\n",
    "    q=4*np.pi*n/wavelen * np.sin( winkel *gamma /2)\n",
    "    \n",
    "    return 9 * ( np.sin(q*a) - (q*a)* np.cos(q*a) )**2 /  (q*a)**6 *amp\n",
    "\n",
    "# Funktion funktioniert für yscale=\"log\" bei ca. a=500nm"
   ]
  },
  {
   "cell_type": "code",
   "execution_count": null,
   "metadata": {},
   "outputs": [],
   "source": [
    "winkel=np.linspace(0,180,1000)\n",
    "fig,ax=plt.subplots(dpi=144)\n",
    "ax.plot(winkel, formfaktor(winkel,200e-9,amp=1))\n",
    "ax.set(yscale=\"log\");"
   ]
  },
  {
   "cell_type": "code",
   "execution_count": null,
   "metadata": {},
   "outputs": [],
   "source": [
    "angles=[]\n",
    "meanI=[]\n",
    "\n",
    "for x in range(2,16):\n",
    "    name=\"Data/A/{}.ASC\".format(x*10)\n",
    "    angles.append(x*10)\n",
    "    data=np.genfromtxt(name,skip_header=16,delimiter=\"\\t\",filling_values=-1,comments=\"\\\"\")\n",
    "    I=data[183:,1]\n",
    "    meanI.append(np.mean(I) * np.sin(gamma*x*10)) # Winkelkorrektur\n",
    "\n",
    "meanI=[y/np.max(meanI)/2 for y in meanI] # Normierung auf die größte Intensität\n",
    "#\n",
    "# WIE SOLL MAN DAS RICHTIG NORMIEREN ???\n",
    "# \n",
    "\n",
    "stop=10\n",
    "\n",
    "popt,pcov=cf(formfaktor, angles[:stop], meanI[:stop], p0=(200e-9))\n",
    "perr = np.sqrt(np.diag(pcov))\n",
    "print(popt)\n",
    "\n",
    "q=np.linspace(angles[0],180,1000)\n",
    "\n",
    "fig,ax=plt.subplots(dpi=144)\n",
    "ax.plot(angles, meanI ,label=\"Data\")\n",
    "ax.plot(q, formfaktor(q,*popt) ,label=\"Fit: a= {:.2f} $\\pm$ {:.2f} nm\".format(popt[0]*1e9,perr[0]*1e9))\n",
    "\n",
    "for i in np.linspace(150e-9,200e-9,6):\n",
    "    ax.plot(q, formfaktor(q,i) ,label=\"Testwert: {:.2f} nm\".format(i/1e-9,popt[0]*1e9,perr[0]*1e9))\n",
    "ax.set(xlabel=r\"Angle $\\theta \\: [°]$\", ylabel=\"Formfactor $P(q)$\", title=\"Formfactor for Data A\",yscale=\"log\")\n",
    "ax.legend();"
   ]
  },
  {
   "cell_type": "code",
   "execution_count": null,
   "metadata": {},
   "outputs": [],
   "source": [
    "angles=[]\n",
    "meanI=[]\n",
    "\n",
    "for x in range(2,16):\n",
    "    name=\"Data/B/{}.ASC\".format(x*10)\n",
    "    angles.append(x*10)\n",
    "    data=np.genfromtxt(name,skip_header=16,delimiter=\"\\t\",filling_values=-1,comments=\"\\\"\")\n",
    "    I=data[183:,1]\n",
    "    meanI.append(np.mean(I) * np.sin(gamma*x*10)) # Winkelkorrektur\n",
    "    \n",
    "#meanI=[y/np.amax(meanI) for y in meanI] # Normierung auf die größte Intensität\n",
    "\n",
    "stop=7\n",
    "\n",
    "popt,pcov=cf(formfaktor, angles[:stop], meanI[:stop], p0=(100e-9,300))\n",
    "perr = np.sqrt(np.diag(pcov))\n",
    "\n",
    "q=np.linspace(angles[0],angles[-1],1000)\n",
    "\n",
    "fig,ax=plt.subplots(dpi=144)\n",
    "ax.plot(angles, meanI ,label=\"Data\")\n",
    "ax.plot(q, formfaktor(q,*popt) ,label=\"Fit: a= {:.2f} $\\pm$ {:.2f} nm\".format(popt[0]*1e9,perr[0]*1e9))\n",
    "ax.set(xlabel=r\"Angle $\\theta \\: [°]$\", ylabel=\"Formfactor $P(q)$\", title=\"Formfactor for Data B\",yscale=\"log\")\n",
    "ax.legend();"
   ]
  },
  {
   "cell_type": "code",
   "execution_count": null,
   "metadata": {},
   "outputs": [],
   "source": []
  }
 ],
 "metadata": {
  "kernelspec": {
   "display_name": "Python 3",
   "language": "python",
   "name": "python3"
  },
  "language_info": {
   "codemirror_mode": {
    "name": "ipython",
    "version": 3
   },
   "file_extension": ".py",
   "mimetype": "text/x-python",
   "name": "python",
   "nbconvert_exporter": "python",
   "pygments_lexer": "ipython3",
   "version": "3.11.4"
  }
 },
 "nbformat": 4,
 "nbformat_minor": 2
}
